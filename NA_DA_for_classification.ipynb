{
 "cells": [
  {
   "cell_type": "markdown",
   "id": "8e5ee9c0",
   "metadata": {},
   "source": [
    "# NADA for Classification"
   ]
  },
  {
   "cell_type": "markdown",
   "id": "f19d971d",
   "metadata": {},
   "source": [
    "This notebook aims to show a simple example of classification with a Convolutional Neural Network on a dataset generated with NADA"
   ]
  },
  {
   "cell_type": "code",
   "execution_count": 237,
   "id": "65ffb2ab",
   "metadata": {},
   "outputs": [],
   "source": [
    "# Libraries\n",
    "import os\n",
    "import random\n",
    "import shutil\n",
    "import numpy as np\n",
    "import matplotlib.pyplot as plt\n",
    "import seaborn as sns\n",
    "import pandas as pd\n",
    "\n",
    "from pathlib import Path\n",
    "from PIL import Image\n",
    "\n",
    "import zipfile # To zip/unzip image folder\n",
    "\n",
    "import torch\n",
    "import torch.nn as nn\n",
    "import torch.optim as optim\n",
    "\n",
    "from torchsummary import summary\n",
    "from torchvision import transforms\n",
    "import torchvision.transforms.functional as F\n",
    "\n",
    "from torch.utils.data import Dataset\n",
    "from torch.utils.data import DataLoader"
   ]
  },
  {
   "cell_type": "markdown",
   "id": "94149e50",
   "metadata": {},
   "source": [
    "# The Dataset"
   ]
  },
  {
   "cell_type": "markdown",
   "id": "55090fe6",
   "metadata": {},
   "source": [
    "The Dataset is generated with NADA. For our dimostrative pourpose we use a dataset clean of noise, made up of 100000 synthetic images of \n",
    "- four different shapes: Circles (0 vertices), Triangles (4 vertices), Squares (4 vertices) and Exagons (6 vertices)\n",
    "- three different colors: brown RGB code (140, 93, 66), blue RGB code (54, 152, 191) and orange RGB code (242, 161, 114)"
   ]
  },
  {
   "cell_type": "markdown",
   "id": "a8d1c306",
   "metadata": {},
   "source": [
    "Other datasets can be foud on Zenodo DOI 10.5281/zenodo.14361220."
   ]
  },
  {
   "cell_type": "markdown",
   "id": "7a1ebda8",
   "metadata": {},
   "source": [
    "## Loading the dataset"
   ]
  },
  {
   "cell_type": "markdown",
   "id": "ac6c7a00",
   "metadata": {},
   "source": [
    "Once downloaded the dataset, the right path has to be set"
   ]
  },
  {
   "cell_type": "code",
   "execution_count": 239,
   "id": "e35dda0c",
   "metadata": {},
   "outputs": [],
   "source": [
    "path_pardir = Path(os.getcwd()).parent\n",
    "path_data = os.path.join(path_pardir, 'Data')\n",
    "path_nada = os.path.join(path_data, 'NADA_OOD_Train')\n",
    "path_images = os.path.join(path_nada, 'dataset_images')"
   ]
  },
  {
   "cell_type": "markdown",
   "id": "f480d90a",
   "metadata": {},
   "source": [
    "Definition of the device"
   ]
  },
  {
   "cell_type": "code",
   "execution_count": 240,
   "id": "b04a4f32",
   "metadata": {},
   "outputs": [
    {
     "name": "stdout",
     "output_type": "stream",
     "text": [
      "Device: cpu\n"
     ]
    }
   ],
   "source": [
    "device = torch.device(\"cuda\" if torch.cuda.is_available() else \"cpu\")\n",
    "print(\"Device:\", device)"
   ]
  },
  {
   "cell_type": "markdown",
   "id": "0805a6aa",
   "metadata": {},
   "source": [
    "The database is subdivided in training/validation/test following 80/10/10 percentages:"
   ]
  },
  {
   "cell_type": "code",
   "execution_count": 241,
   "id": "3f8feb36",
   "metadata": {},
   "outputs": [
    {
     "name": "stdout",
     "output_type": "stream",
     "text": [
      "Dataframe length: 10000\n",
      "Training length: 8000\n",
      "Validation length: 1000\n",
      "Test length: 1000\n"
     ]
    },
    {
     "data": {
      "text/html": [
       "<div>\n",
       "<style scoped>\n",
       "    .dataframe tbody tr th:only-of-type {\n",
       "        vertical-align: middle;\n",
       "    }\n",
       "\n",
       "    .dataframe tbody tr th {\n",
       "        vertical-align: top;\n",
       "    }\n",
       "\n",
       "    .dataframe thead th {\n",
       "        text-align: right;\n",
       "    }\n",
       "</style>\n",
       "<table border=\"1\" class=\"dataframe\">\n",
       "  <thead>\n",
       "    <tr style=\"text-align: right;\">\n",
       "      <th></th>\n",
       "      <th>Unnamed: 0</th>\n",
       "      <th>centre_x</th>\n",
       "      <th>centre_y</th>\n",
       "      <th>radius</th>\n",
       "      <th>rotation_(degrees)</th>\n",
       "      <th>deformation</th>\n",
       "      <th>blur</th>\n",
       "      <th>white_noise</th>\n",
       "      <th>holes</th>\n",
       "      <th>additive_noise_regression</th>\n",
       "      <th>...</th>\n",
       "      <th>regression_radius</th>\n",
       "      <th>regression_radius_noise</th>\n",
       "      <th>regression_centering</th>\n",
       "      <th>regression_centering_noise</th>\n",
       "      <th>shape_noisy</th>\n",
       "      <th>color_noisy</th>\n",
       "      <th>correct_class</th>\n",
       "      <th>noisy_class</th>\n",
       "      <th>regression_area</th>\n",
       "      <th>regression_area_noise</th>\n",
       "    </tr>\n",
       "  </thead>\n",
       "  <tbody>\n",
       "    <tr>\n",
       "      <th>53909</th>\n",
       "      <td>53909</td>\n",
       "      <td>47.513757</td>\n",
       "      <td>32.565329</td>\n",
       "      <td>15.836419</td>\n",
       "      <td>154.769644</td>\n",
       "      <td>0.0</td>\n",
       "      <td>0.0</td>\n",
       "      <td>0.0</td>\n",
       "      <td>0.0</td>\n",
       "      <td>0.0</td>\n",
       "      <td>...</td>\n",
       "      <td>15.836419</td>\n",
       "      <td>15.836419</td>\n",
       "      <td>17.611052</td>\n",
       "      <td>17.611052</td>\n",
       "      <td>3</td>\n",
       "      <td>(54, 152, 191)</td>\n",
       "      <td>False</td>\n",
       "      <td>False</td>\n",
       "      <td>3.876</td>\n",
       "      <td>387.573</td>\n",
       "    </tr>\n",
       "    <tr>\n",
       "      <th>65325</th>\n",
       "      <td>65325</td>\n",
       "      <td>46.452760</td>\n",
       "      <td>36.950827</td>\n",
       "      <td>15.982493</td>\n",
       "      <td>305.952859</td>\n",
       "      <td>0.0</td>\n",
       "      <td>0.0</td>\n",
       "      <td>0.0</td>\n",
       "      <td>0.0</td>\n",
       "      <td>0.0</td>\n",
       "      <td>...</td>\n",
       "      <td>15.982493</td>\n",
       "      <td>15.982493</td>\n",
       "      <td>13.522715</td>\n",
       "      <td>13.522715</td>\n",
       "      <td>3</td>\n",
       "      <td>(54, 152, 191)</td>\n",
       "      <td>False</td>\n",
       "      <td>False</td>\n",
       "      <td>3.882</td>\n",
       "      <td>388.184</td>\n",
       "    </tr>\n",
       "    <tr>\n",
       "      <th>43286</th>\n",
       "      <td>43286</td>\n",
       "      <td>22.555925</td>\n",
       "      <td>31.657017</td>\n",
       "      <td>16.945568</td>\n",
       "      <td>310.770928</td>\n",
       "      <td>0.0</td>\n",
       "      <td>0.0</td>\n",
       "      <td>0.0</td>\n",
       "      <td>0.0</td>\n",
       "      <td>0.0</td>\n",
       "      <td>...</td>\n",
       "      <td>16.945568</td>\n",
       "      <td>16.945568</td>\n",
       "      <td>33.009730</td>\n",
       "      <td>33.009730</td>\n",
       "      <td>0</td>\n",
       "      <td>(54, 152, 191)</td>\n",
       "      <td>False</td>\n",
       "      <td>False</td>\n",
       "      <td>10.138</td>\n",
       "      <td>1013.794</td>\n",
       "    </tr>\n",
       "    <tr>\n",
       "      <th>63250</th>\n",
       "      <td>63250</td>\n",
       "      <td>25.439456</td>\n",
       "      <td>46.244013</td>\n",
       "      <td>11.627626</td>\n",
       "      <td>199.873741</td>\n",
       "      <td>0.0</td>\n",
       "      <td>0.0</td>\n",
       "      <td>0.0</td>\n",
       "      <td>0.0</td>\n",
       "      <td>0.0</td>\n",
       "      <td>...</td>\n",
       "      <td>11.627626</td>\n",
       "      <td>11.627626</td>\n",
       "      <td>24.846081</td>\n",
       "      <td>24.846081</td>\n",
       "      <td>3</td>\n",
       "      <td>(54, 152, 191)</td>\n",
       "      <td>False</td>\n",
       "      <td>False</td>\n",
       "      <td>2.307</td>\n",
       "      <td>230.713</td>\n",
       "    </tr>\n",
       "  </tbody>\n",
       "</table>\n",
       "<p>4 rows × 28 columns</p>\n",
       "</div>"
      ],
      "text/plain": [
       "       Unnamed: 0   centre_x   centre_y     radius  rotation_(degrees)  \\\n",
       "53909       53909  47.513757  32.565329  15.836419          154.769644   \n",
       "65325       65325  46.452760  36.950827  15.982493          305.952859   \n",
       "43286       43286  22.555925  31.657017  16.945568          310.770928   \n",
       "63250       63250  25.439456  46.244013  11.627626          199.873741   \n",
       "\n",
       "       deformation  blur  white_noise  holes  additive_noise_regression  ...  \\\n",
       "53909          0.0   0.0          0.0    0.0                        0.0  ...   \n",
       "65325          0.0   0.0          0.0    0.0                        0.0  ...   \n",
       "43286          0.0   0.0          0.0    0.0                        0.0  ...   \n",
       "63250          0.0   0.0          0.0    0.0                        0.0  ...   \n",
       "\n",
       "       regression_radius regression_radius_noise  regression_centering  \\\n",
       "53909          15.836419               15.836419             17.611052   \n",
       "65325          15.982493               15.982493             13.522715   \n",
       "43286          16.945568               16.945568             33.009730   \n",
       "63250          11.627626               11.627626             24.846081   \n",
       "\n",
       "      regression_centering_noise shape_noisy     color_noisy  correct_class  \\\n",
       "53909                  17.611052           3  (54, 152, 191)          False   \n",
       "65325                  13.522715           3  (54, 152, 191)          False   \n",
       "43286                  33.009730           0  (54, 152, 191)          False   \n",
       "63250                  24.846081           3  (54, 152, 191)          False   \n",
       "\n",
       "       noisy_class  regression_area  regression_area_noise  \n",
       "53909        False            3.876                387.573  \n",
       "65325        False            3.882                388.184  \n",
       "43286        False           10.138               1013.794  \n",
       "63250        False            2.307                230.713  \n",
       "\n",
       "[4 rows x 28 columns]"
      ]
     },
     "execution_count": 241,
     "metadata": {},
     "output_type": "execute_result"
    }
   ],
   "source": [
    "chosen_df = \"combined_dataframe.csv\"\n",
    "\n",
    "full_df = pd.read_csv(os.path.join(path_nada, chosen_df))\n",
    "\n",
    "# Random reorder given a seed\n",
    "full_df = full_df.sample(frac=1, random_state=1902)\n",
    "\n",
    "# We use only a 10% of the full dataset because for our classification task are enough (10000 images)\n",
    "full_df = full_df.iloc[:10000]\n",
    "\n",
    "# Subdivide training/validation/test\n",
    "training_df = full_df.iloc[:int(len(full_df)*80/100)]\n",
    "validation_df = full_df.iloc[int(len(full_df)*80/100):int(len(full_df)*90/100)]\n",
    "test_df = full_df.iloc[int(len(full_df)*90/100):]\n",
    "\n",
    "# Print dataframes lenght\n",
    "print(\"Dataframe length:\", len(full_df))\n",
    "print(\"Training length:\", len(training_df))\n",
    "print(\"Validation length:\", len(validation_df))\n",
    "print(\"Test length:\", len(test_df))\n",
    "\n",
    "# Show the first 4 rows of the dataset:\n",
    "full_df.head(4)"
   ]
  },
  {
   "cell_type": "markdown",
   "id": "47e94a8f",
   "metadata": {},
   "source": [
    "We define a dataloader, able to load an image given the identification code"
   ]
  },
  {
   "cell_type": "code",
   "execution_count": 242,
   "id": "fecd25f7",
   "metadata": {},
   "outputs": [],
   "source": [
    "def load_img_name(img, path_folder, n_row = 10, n_columns = 10):\n",
    "    '''\n",
    "    Aux function that load the tile corresponding to image name.\n",
    "    \n",
    "    img [string] : name of the image to be loaded\n",
    "    path_folder [path] : folder containing the subfolder of images\n",
    "    n_row [int = 10] : number of rows in the combined image \n",
    "    n_columns [int = 10] : number of columns in the combined image \n",
    "    '''\n",
    "    \n",
    "    # Identify the index, color and the shape\n",
    "    shape = img.split('_')[1]\n",
    "    color = img.split('_')[2].strip(\"()\").replace(\" \",\"\").replace(\",\",\"-\")\n",
    "    index = int(img.split('_')[3])\n",
    "    \n",
    "    # Sub Folder path\n",
    "    path_sub_folder = os.path.join(path_folder,\n",
    "                                   \"shape-\"+str(shape)+\"_color-\"+str(color))\n",
    "    list_combined_img = os.listdir(path_sub_folder)\n",
    "    \n",
    "    # Having the index we can define the combined image containing the img\n",
    "    selected_list = [i for i in list_combined_img if (index>=int(i.split(\"_\")[1].replace('.png',\"\")))and(index<=int(i.split(\"_\")[2].replace('.png',\"\")))]\n",
    "    #print(selected_list)\n",
    "    selected_combined_img = Image.open(os.path.join(path_sub_folder, selected_list[0]))\n",
    "    \n",
    "    # Find image size:\n",
    "    img_height = int(selected_combined_img.size[1]/n_row)\n",
    "    img_width = int(selected_combined_img.size[0]/n_columns)\n",
    "    \n",
    "    # Rescale index\n",
    "    index = index-int(selected_list[0].split(\"_\")[1].replace('.png',\"\"))\n",
    "    \n",
    "    # Selected subsquare\n",
    "    row = index // n_columns\n",
    "    col = index % n_columns\n",
    "    \n",
    "    x = col * img_width\n",
    "    y = row * img_height\n",
    "    selected_img = selected_combined_img.crop((x, y, x + img_width, y + img_height))\n",
    " \n",
    "    \n",
    "    return selected_img"
   ]
  },
  {
   "cell_type": "markdown",
   "id": "1d73c0f7",
   "metadata": {},
   "source": [
    "## Customization of the dataset"
   ]
  },
  {
   "cell_type": "markdown",
   "id": "59eb171e",
   "metadata": {},
   "source": [
    "Definition of the \"CustomDataset\" class for the definition of the dataset (resize and conversion to tensor)"
   ]
  },
  {
   "cell_type": "code",
   "execution_count": 243,
   "id": "0c5a63fb",
   "metadata": {},
   "outputs": [],
   "source": [
    "# Dataset definition:\n",
    "class CustomDataset(Dataset):\n",
    "    def __init__(self, selected_df, path_images, image_size=(128, 128)):\n",
    "        self.df = selected_df\n",
    "        \n",
    "        self.path_images = path_images\n",
    "        \n",
    "        self.transform = transforms.Compose([\n",
    "            transforms.Resize(image_size),       # Resize to a fixed size\n",
    "            transforms.ToTensor()                # Convert to tensor (scales to [0,1])\n",
    "        ])\n",
    "        \n",
    "        \n",
    "    def __len__(self):\n",
    "        return len(self.df)\n",
    "\n",
    "    \n",
    "    def __getitem__(self, idx):\n",
    "        img_ID =  str(self.df.iloc[idx]['ID_image'])\n",
    "        img_label = self.df.iloc[idx]['shape']\n",
    "        #print(img_label, img_ID,  type(img_label))\n",
    "\n",
    "        image = load_img_name(img_ID, self.path_images).convert(\"RGB\")  # Ensure 3 channels\n",
    "\n",
    "        image = self.transform(image)\n",
    "        \n",
    "        return image, torch.tensor(img_label, dtype=torch.long)\n"
   ]
  },
  {
   "cell_type": "markdown",
   "id": "91c684d8",
   "metadata": {},
   "source": [
    "Initialize Training dataset and show its length:"
   ]
  },
  {
   "cell_type": "code",
   "execution_count": 244,
   "id": "d6e09091",
   "metadata": {},
   "outputs": [
    {
     "name": "stdout",
     "output_type": "stream",
     "text": [
      "Length training dataset: 8000\n"
     ]
    }
   ],
   "source": [
    "training_dataset = CustomDataset(selected_df=training_df, path_images=path_images)\n",
    "print(\"Length training dataset:\", training_dataset.__len__())"
   ]
  },
  {
   "cell_type": "markdown",
   "id": "0682f024",
   "metadata": {},
   "source": [
    "Initialize Validation dataset and show its length:"
   ]
  },
  {
   "cell_type": "code",
   "execution_count": 245,
   "id": "aaf21767",
   "metadata": {},
   "outputs": [
    {
     "name": "stdout",
     "output_type": "stream",
     "text": [
      "Length validation dataset: 1000\n"
     ]
    }
   ],
   "source": [
    "validation_dataset = CustomDataset(selected_df=validation_df, path_images=path_images)\n",
    "print(\"Length validation dataset:\", validation_dataset.__len__())"
   ]
  },
  {
   "cell_type": "markdown",
   "id": "df84f0f6",
   "metadata": {},
   "source": [
    "Initialize Test dataset and show its length:"
   ]
  },
  {
   "cell_type": "code",
   "execution_count": 246,
   "id": "c95a2ef7",
   "metadata": {},
   "outputs": [
    {
     "name": "stdout",
     "output_type": "stream",
     "text": [
      "Length test dataset: 1000\n"
     ]
    }
   ],
   "source": [
    "test_dataset = CustomDataset(selected_df=test_df, path_images=path_images)\n",
    "print(\"Length test dataset:\", test_dataset.__len__())"
   ]
  },
  {
   "cell_type": "markdown",
   "id": "5c4ee9ef",
   "metadata": {},
   "source": [
    "Print the plot and the label (number of vertices) of an image given the index"
   ]
  },
  {
   "cell_type": "code",
   "execution_count": 247,
   "id": "edd8da0c",
   "metadata": {},
   "outputs": [
    {
     "data": {
      "image/png": "[encoded data removed]",
      "text/plain": [
       "<Figure size 640x480 with 1 Axes>"
      ]
     },
     "metadata": {},
     "output_type": "display_data"
    }
   ],
   "source": [
    "# Select an index\n",
    "index_example = 999\n",
    "\n",
    "# Get the item corresponding to the given index\n",
    "[image_tensor,label] = training_dataset.__getitem__(index_example)\n",
    "\n",
    "# Convert to NumPy format for plotting (0-1) -> (0-255)\n",
    "image_np = F.to_pil_image(image_tensor)  # Convert back to PIL\n",
    "\n",
    "# Plot the image\n",
    "plt.imshow(image_np)\n",
    "plt.axis(\"off\")  # Hide axes\n",
    "plt.title(f\"Image Label: {label}\") # Plot the size of the tensor\n",
    "plt.show()"
   ]
  },
  {
   "cell_type": "markdown",
   "id": "61fa3180",
   "metadata": {},
   "source": [
    "Choose the batch size and define the three dataloaders based on the batch size."
   ]
  },
  {
   "cell_type": "code",
   "execution_count": 248,
   "id": "91a87e2a",
   "metadata": {},
   "outputs": [],
   "source": [
    "# Size of each batch\n",
    "batch_size = 20 \n",
    "\n",
    "# Define 3 DataLoaders: Training/Validation/Test \n",
    "training_dataloader = DataLoader(training_dataset, batch_size=batch_size, shuffle=False)\n",
    "validation_dataloader = DataLoader(validation_dataset, batch_size=batch_size, shuffle=False)\n",
    "test_dataloader = DataLoader(test_dataset, batch_size=1, shuffle=False)"
   ]
  },
  {
   "cell_type": "markdown",
   "id": "1c1a19a8",
   "metadata": {},
   "source": [
    "# The Model"
   ]
  },
  {
   "cell_type": "markdown",
   "id": "c5bf4ea7",
   "metadata": {},
   "source": [
    "## Definition of the Convolutional Architecture"
   ]
  },
  {
   "cell_type": "markdown",
   "id": "db1bf683",
   "metadata": {},
   "source": [
    "Definiton of the convolutional architecture for the classification based on shapes (number of vertices)"
   ]
  },
  {
   "cell_type": "code",
   "execution_count": 249,
   "id": "9bc05a57",
   "metadata": {},
   "outputs": [
    {
     "name": "stdout",
     "output_type": "stream",
     "text": [
      "Output shape: torch.Size([1, 7])\n"
     ]
    }
   ],
   "source": [
    "class ImageClassifier(nn.Module):\n",
    "    def __init__(self, num_classes=7):\n",
    "        '''\n",
    "        latent_space_size : (int) number of dimensions of the latent space\n",
    "        '''\n",
    "        \n",
    "        super(ImageClassifier, self).__init__()\n",
    "\n",
    "        # Classifier\n",
    "        self.classifier = nn.Sequential(\n",
    "            # Convolutional layer with stride > 1 to downsample the image\n",
    "            nn.Conv2d(3, 16, kernel_size=3, stride=2, padding=1),            # (3, 128, 128) → (16, 64, 64) - Downsample\n",
    "            nn.ReLU(),\n",
    "            \n",
    "            # Convolutional layer with stride > 1 to downsample the image\n",
    "            nn.Conv2d(16, 32, kernel_size=3, stride=2, padding=1),           # (16, 64, 64) → (32, 32, 32) - Downsample\n",
    "            nn.ReLU(),\n",
    "\n",
    "            # Convolutional layer with stride > 1 to downsample the image\n",
    "            nn.Conv2d(32, 64, kernel_size=3, stride=2, padding=1),           # (32, 32, 32) → (64, 16, 16) - Downsample\n",
    "            nn.ReLU(),\n",
    "\n",
    "            # Convolutional layer with stride > 1 to downsample the image\n",
    "            nn.Conv2d(64, 32, kernel_size=3, stride=2, padding=1),          # (64, 16, 16) → (32, 8, 8) - Downsample\n",
    "            nn.ReLU(),\n",
    "\n",
    "            # Flatten layer to obtain R^(32*8*8) vector with dropout to improve training\n",
    "            nn.Flatten(),\n",
    "            nn.Dropout(0.2),\n",
    "\n",
    "            # Linear layer \n",
    "            nn.Linear(32 * 8 * 8, num_classes)  \n",
    "        )\n",
    "\n",
    "    \n",
    "    # Forward method\n",
    "    def forward(self, x):\n",
    "        \n",
    "        # Classifier\n",
    "        output = self.classifier(x)  \n",
    "      \n",
    "        return output\n",
    "\n",
    "\n",
    "\n",
    "# Initialize the model and move it to the device\n",
    "model = ImageClassifier().to(device)\n",
    "\n",
    "x = torch.randn(1, 3, 128, 128).to(device)  # Batch size 1, 3 channel, 128x128 image\n",
    "output = model(x)\n",
    "\n",
    "print(\"Output shape:\", output.shape)\n"
   ]
  },
  {
   "cell_type": "markdown",
   "id": "37d00655",
   "metadata": {},
   "source": [
    "## Definition of the Loss "
   ]
  },
  {
   "cell_type": "markdown",
   "id": "87e6b245",
   "metadata": {},
   "source": [
    "Definition of the loss function: Cross Entropy for a classification task"
   ]
  },
  {
   "cell_type": "code",
   "execution_count": 250,
   "id": "09ec81f6",
   "metadata": {},
   "outputs": [],
   "source": [
    "# Loss function (Cross entropy loss):\n",
    "loss_fn = nn.CrossEntropyLoss() "
   ]
  },
  {
   "cell_type": "markdown",
   "id": "cef8677e",
   "metadata": {},
   "source": [
    "Definition of learning rate and optimizer"
   ]
  },
  {
   "cell_type": "code",
   "execution_count": 251,
   "id": "78eec203",
   "metadata": {},
   "outputs": [],
   "source": [
    "# Optimizer (Adam): \n",
    "learning_rate = 1e-3\n",
    "optimizer = optim.Adam(model.parameters(), lr=learning_rate)"
   ]
  },
  {
   "cell_type": "markdown",
   "id": "c5e16752",
   "metadata": {},
   "source": [
    "## Training phase"
   ]
  },
  {
   "cell_type": "markdown",
   "id": "4a8d6cc9",
   "metadata": {},
   "source": [
    "Training of the Classificator. The very high number of images in the training set makes it possible for convergence to be achieved in just a few epochs."
   ]
  },
  {
   "cell_type": "code",
   "execution_count": 252,
   "id": "96f0ffdb",
   "metadata": {},
   "outputs": [
    {
     "name": "stdout",
     "output_type": "stream",
     "text": [
      "Epoch [1/10], Loss: 1.2438, Val. Loss: 1.1466\n",
      "Epoch [2/10], Loss: 1.1052, Val. Loss: 1.0559\n",
      "Epoch [3/10], Loss: 0.8160, Val. Loss: 0.4052\n",
      "Epoch [4/10], Loss: 0.3005, Val. Loss: 0.1617\n",
      "Epoch [5/10], Loss: 0.1330, Val. Loss: 0.0287\n",
      "Epoch [6/10], Loss: 0.0600, Val. Loss: 0.0146\n",
      "Epoch [7/10], Loss: 0.0436, Val. Loss: 0.0550\n",
      "Epoch [8/10], Loss: 0.0371, Val. Loss: 0.0309\n",
      "Epoch [9/10], Loss: 0.0208, Val. Loss: 0.0098\n",
      "Epoch [10/10], Loss: 0.0298, Val. Loss: 0.0316\n"
     ]
    }
   ],
   "source": [
    "# Number of training epochs:\n",
    "n_epochs = 10\n",
    "\n",
    "training_loss_list = []\n",
    "validation_loss_list = []\n",
    "\n",
    "# Iterate over the epochs:\n",
    "for epoch in range(n_epochs):\n",
    "\n",
    "    # Set the model to Training mode: This interacts with certain kind of network layers (such as Dropout layers)\n",
    "    model.train()  \n",
    "\n",
    "    # Temporary variable to store the loss on the whole epoch as a convergence metric\n",
    "    running_loss = 0.0\n",
    "\n",
    "    # Iterate on the whole dataset using the dataloader.\n",
    "    for nada_input, label_gt in training_dataloader:\n",
    "        \n",
    "        # Load inputs ad move to device (GPU)\n",
    "        nada_input, label_gt = nada_input.to(device), label_gt.to(device)\n",
    "\n",
    "        # Clear previous gradients\n",
    "        optimizer.zero_grad()  \n",
    "        \n",
    "        # Forward pass (model calls)\n",
    "        nada_model = model(nada_input)  \n",
    "\n",
    "        # Compute loss (supervised case)\n",
    "        loss = loss_fn(nada_model, label_gt)  \n",
    "        \n",
    "        # Backpropagation \n",
    "        loss.backward()  \n",
    "\n",
    "        # Update parameters (optimization step)\n",
    "        optimizer.step()  \n",
    "\n",
    "        # Update running loss as convergence metric\n",
    "        running_loss += loss.item()\n",
    "        \n",
    "\n",
    "    \n",
    "    ## Calculate loss on validation as an additional metric to evaluate overfitting\n",
    "    # Set the model to Evaluation mode:\n",
    "    model.eval()\n",
    "\n",
    "    # Temporary variable to store the validation loss:\n",
    "    running_val_loss = 0.0\n",
    "    \n",
    "    # Deactivate gradient computation\n",
    "    with torch.no_grad():\n",
    "        for nada_input, label_gt in validation_dataloader:\n",
    "            # Load inputs ad move to device (GPU)\n",
    "            nada_input, label_gt = nada_input.to(device), label_gt.to(device)\n",
    "\n",
    "            # Forward pass (model calls)\n",
    "            nada_model = model(nada_input)\n",
    "\n",
    "            # Compute loss (supervised case)\n",
    "            loss = loss_fn(nada_model, label_gt)\n",
    "\n",
    "            # Update validation running loss as convergence metric\n",
    "            running_val_loss += loss.item()\n",
    "            \n",
    "    # Average epoch loss\n",
    "    epoch_training_loss = running_loss / len(training_dataloader)\n",
    "    epoch_validation_loss = running_val_loss / len(validation_dataloader)\n",
    "\n",
    "    # Append the losses to the list:\n",
    "    training_loss_list.append(epoch_training_loss)\n",
    "    validation_loss_list.append(epoch_validation_loss)\n",
    "            \n",
    "\n",
    "    # Convergence metric\n",
    "    print(f\"Epoch [{epoch+1}/{n_epochs}], Loss: {epoch_training_loss:.4f}, Val. Loss: {epoch_validation_loss:.4f}\")"
   ]
  },
  {
   "cell_type": "markdown",
   "id": "77556c69",
   "metadata": {},
   "source": [
    "# Results"
   ]
  },
  {
   "cell_type": "markdown",
   "id": "3c3431f4",
   "metadata": {},
   "source": [
    "## Convergence of the Model"
   ]
  },
  {
   "cell_type": "markdown",
   "id": "3b30a3cf",
   "metadata": {},
   "source": [
    "Plot of the Training Loss and of the Validation Loss. \n",
    "The fact that they converge together and settle on the same value means that the model has not overfitted.\n"
   ]
  },
  {
   "cell_type": "code",
   "execution_count": 254,
   "id": "b1cdc370",
   "metadata": {},
   "outputs": [
    {
     "data": {
      "text/plain": [
       "<matplotlib.legend.Legend at 0x160ae4810>"
      ]
     },
     "execution_count": 254,
     "metadata": {},
     "output_type": "execute_result"
    },
    {
     "data": {
      "image/png": "[encoded data removed]",
      "text/plain": [
       "<Figure size 640x480 with 1 Axes>"
      ]
     },
     "metadata": {},
     "output_type": "display_data"
    }
   ],
   "source": [
    "fig, ax = plt.subplots()\n",
    "\n",
    "ax.plot(list(range(len(training_loss_list))), training_loss_list, color = 'black', label='Training loss')\n",
    "ax.plot(list(range(len(validation_loss_list))), validation_loss_list,  color = 'red', label='Validation loss')\n",
    "ax.legend()"
   ]
  },
  {
   "cell_type": "markdown",
   "id": "7439772c",
   "metadata": {},
   "source": [
    "## Performances on the Test Set"
   ]
  },
  {
   "cell_type": "markdown",
   "id": "5778cf58",
   "metadata": {},
   "source": [
    "Evaluation of the trained model's behavior on the Test Set"
   ]
  },
  {
   "cell_type": "code",
   "execution_count": 255,
   "id": "838e9a26",
   "metadata": {},
   "outputs": [],
   "source": [
    "# Use the model in evaluation mode:\n",
    "model.eval()\n",
    "\n",
    "# Define a list of predictions:\n",
    "list_of_outputs = []\n",
    "list_of_tensor_gt = []\n",
    "list_label_prediction = []\n",
    "list_gt = []\n",
    "\n",
    "num_classes = 7\n",
    "\n",
    "# Iterates without computing gradients:\n",
    "with torch.no_grad():\n",
    "    # Make a prediction for each training/validation/test inputs:\n",
    "    for nada_input, label_gt in test_dataloader:\n",
    "        \n",
    "        # Forward pass (model calls)\n",
    "        nada_model = model(nada_input)\n",
    "        \n",
    "        # Append the predictions on each class:\n",
    "        list_of_outputs.append(nada_model[0])\n",
    "        \n",
    "        # Create the list of tensor-ground truth:\n",
    "        gt_class = torch.zeros(num_classes)\n",
    "        for j in range (num_classes):\n",
    "            if j == label_gt:\n",
    "                gt_class[j] = 1\n",
    "        list_of_tensor_gt.append(gt_class)\n",
    "        \n",
    "        # Select the highest value among possible classes\n",
    "        predicted_class = torch.argmax(nada_model)\n",
    "        #print(predicted_class,label_gt)\n",
    "\n",
    "        # Append the prediction to the list:\n",
    "        list_label_prediction.append(int(predicted_class.to('cpu')))\n",
    "        \n",
    "        # Append the gt to the list:\n",
    "        list_gt.append(int(label_gt.to('cpu')))"
   ]
  },
  {
   "cell_type": "markdown",
   "id": "2abc57af",
   "metadata": {},
   "source": [
    "Evaluation of the model's performance on the Test Set through some metrics:\n",
    "- Accuracy: fraction of correctly classified cases over total predictions\n",
    "- Precision: fraction of correctly classified cases as belonging to a specific class over all instances predicted to belong to that class \n",
    "- Calibration Error: difference between the distributions of the model's predictions and the ground truth"
   ]
  },
  {
   "cell_type": "code",
   "execution_count": 256,
   "id": "e9722ce8",
   "metadata": {},
   "outputs": [
    {
     "name": "stdout",
     "output_type": "stream",
     "text": [
      "Accuracy: 0.9980000257492065\n"
     ]
    }
   ],
   "source": [
    "import torchmetrics\n",
    "# initialize metric\n",
    "metric = torchmetrics.classification.Accuracy(task=\"multiclass\", num_classes=7)\n",
    "\n",
    "# move the metric to device you want computations to take place\n",
    "device = \"cuda\" if torch.cuda.is_available() else \"cpu\"\n",
    "metric.to(device)\n",
    "\n",
    "preds = torch.tensor(list_label_prediction, dtype=torch.long)\n",
    "target = torch.tensor(list_gt, dtype=torch.long)\n",
    "\n",
    "acc = metric(preds, target)\n",
    "\n",
    "print(f\"Accuracy: {acc}\")"
   ]
  },
  {
   "cell_type": "code",
   "execution_count": 257,
   "id": "0acfb3c6",
   "metadata": {},
   "outputs": [
    {
     "name": "stdout",
     "output_type": "stream",
     "text": [
      "Calibration error: 0.017832262441515923\n"
     ]
    }
   ],
   "source": [
    "preds = torch.stack(list_of_outputs, dim=0)\n",
    "target = torch.tensor(list_gt, dtype=torch.long)\n",
    "\n",
    "metric = torchmetrics.classification.MulticlassCalibrationError(num_classes=7, n_bins=3, norm='l1')\n",
    "err = metric(preds, target)\n",
    "\n",
    "print(f\"Calibration error: {err}\")"
   ]
  },
  {
   "cell_type": "markdown",
   "id": "2a5f90d8",
   "metadata": {},
   "source": [
    "The Precision over the classes is calculated only for the geometric shapes present in the dataset: circles (0 vertices), triangles (3 verices), squares (4 vertices) and exagons (6 vertices). For example, figures with 1, 2 and 5 vertices are not present in the dataset, so precision can't be evaluated."
   ]
  },
  {
   "cell_type": "code",
   "execution_count": 258,
   "id": "1767597f",
   "metadata": {},
   "outputs": [
    {
     "name": "stdout",
     "output_type": "stream",
     "text": [
      "Precision: tensor([1.0000,    nan,    nan, 1.0000, 1.0000,    nan, 0.9999])\n"
     ]
    }
   ],
   "source": [
    "preds = torch.stack(list_of_outputs, dim=0)\n",
    "target = torch.tensor(list_gt, dtype=torch.long)\n",
    "\n",
    "metric = torchmetrics.classification.AveragePrecision(task=\"multiclass\", num_classes=7, average=None)\n",
    "prec = metric(preds, target)\n",
    "\n",
    "print(f\"Precision: {prec}\")"
   ]
  },
  {
   "cell_type": "markdown",
   "id": "49eb4694",
   "metadata": {},
   "source": [
    "Random sampling of an image from the Test Set and prediction of the class "
   ]
  },
  {
   "cell_type": "code",
   "execution_count": 259,
   "id": "5be6102e",
   "metadata": {},
   "outputs": [
    {
     "data": {
      "image/png": "[encoded data removed]",
      "text/plain": [
       "<Figure size 640x480 with 1 Axes>"
      ]
     },
     "metadata": {},
     "output_type": "display_data"
    }
   ],
   "source": [
    "test_dataloader = DataLoader(test_dataset, batch_size=1, shuffle=True)\n",
    "\n",
    "# Select an index\n",
    "nada_input, label_gt = next(iter(test_dataloader))   \n",
    "\n",
    "# evaluation (model calls)\n",
    "nada_model = model(nada_input)\n",
    "        \n",
    "# predictions on each class:\n",
    "list_of_outputs.append(nada_model[0])\n",
    "        \n",
    "# Select the highest value among possible classes\n",
    "predicted_class = torch.argmax(nada_model)\n",
    "\n",
    "# Convert to NumPy format for plotting (0-1) -> (0-255)\n",
    "image_np = F.to_pil_image(nada_input[0])  # Convert back to PIL\n",
    "\n",
    "# Plot the image\n",
    "plt.imshow(image_np)\n",
    "plt.axis(\"off\")  # Hide axes\n",
    "plt.title(f\"Ground truth: {label_gt[0]}         Prediction: {predicted_class}\") # Plot the size of the tensor\n",
    "plt.show()"
   ]
  },
  {
   "cell_type": "code",
   "execution_count": null,
   "id": "9e6b010f",
   "metadata": {},
   "outputs": [],
   "source": []
  },
  {
   "cell_type": "code",
   "execution_count": null,
   "id": "cbad82a8",
   "metadata": {},
   "outputs": [],
   "source": []
  }
 ],
 "metadata": {
  "kernelspec": {
   "display_name": "Python 3 (ipykernel)",
   "language": "python",
   "name": "python3"
  },
  "language_info": {
   "codemirror_mode": {
    "name": "ipython",
    "version": 3
   },
   "file_extension": ".py",
   "mimetype": "text/x-python",
   "name": "python",
   "nbconvert_exporter": "python",
   "pygments_lexer": "ipython3",
   "version": "3.11.8"
  }
 },
 "nbformat": 4,
 "nbformat_minor": 5
}
